{
 "cells": [
  {
   "cell_type": "markdown",
   "id": "90c11b2e-33d2-422d-9bbe-b3cb08770c8a",
   "metadata": {},
   "source": [
    "# Data Science Tools and Ecosystem #"
   ]
  },
  {
   "cell_type": "code",
   "execution_count": null,
   "id": "51aa4081-cbc2-4403-be4f-a5e74e688559",
   "metadata": {},
   "outputs": [],
   "source": []
  },
  {
   "cell_type": "code",
   "execution_count": null,
   "id": "176e7013-268a-4cbc-9cd8-5164eedd5a66",
   "metadata": {},
   "outputs": [],
   "source": []
  },
  {
   "cell_type": "markdown",
   "id": "f903bcd9-8ee0-47b5-b52e-a77e6034ac69",
   "metadata": {},
   "source": [
    "## Introduction ##\n",
    "\n",
    "#### This notebook provides an overview of the tools, languages, and libraries commonly used in Data Science. It includes examples of arithmetic operations, code to convert time units, and outlines the objectives of this project. The purpose is to demonstrate proficiency in using Jupyter Notebook for data science tasks. ####"
   ]
  },
  {
   "cell_type": "code",
   "execution_count": null,
   "id": "a0b6a922-9c42-4352-86c4-eeb8de2acd42",
   "metadata": {},
   "outputs": [],
   "source": []
  },
  {
   "cell_type": "code",
   "execution_count": null,
   "id": "da1cdb41-b36b-4f65-bd64-f955a7113807",
   "metadata": {},
   "outputs": [],
   "source": []
  },
  {
   "cell_type": "markdown",
   "id": "550f89fa-25df-4733-8eb8-a8790adb9d9a",
   "metadata": {},
   "source": [
    "## Data Science Languages ##\n",
    "\n",
    "The following are popular programming languages used in Data Science:\n",
    "\n",
    "#### Python\n",
    "\n",
    "#### R\n",
    "\n",
    "#### SQL\n",
    "\n",
    "#### Scala\n",
    "\n",
    "#### Java\n",
    "\n",
    "#### C++\n",
    "\n",
    "#### Julia\n",
    "\n",
    "#### JavaScript\n",
    "\n",
    "#### PHP\n",
    "\n",
    "#### Go\n",
    "\n",
    "#### Ruby\n",
    "\n",
    "#### Visual Basic"
   ]
  },
  {
   "cell_type": "code",
   "execution_count": null,
   "id": "f3f78759-8f34-4f05-85ed-7f9741804c85",
   "metadata": {},
   "outputs": [],
   "source": []
  },
  {
   "cell_type": "code",
   "execution_count": null,
   "id": "87940511-40d7-418c-a919-177f23c96e16",
   "metadata": {},
   "outputs": [],
   "source": []
  },
  {
   "cell_type": "markdown",
   "id": "da39696f-250f-4117-a5ff-438c04c147bd",
   "metadata": {},
   "source": [
    "## Data Science Libraries\n",
    "\n",
    "Key libraries frequently used in Data Science include:\n",
    "\n",
    "#### Pandas\n",
    "#### Numpy\n",
    "#### Matplotlib\n",
    "#### Seaborn\n",
    "#### Scikit-learn\n",
    "#### Keras\n",
    "#### TensorFlow\n",
    "#### PyTorch\n",
    "#### Apache Spark\n",
    "#### Vegas\n",
    "#### Big DL\n",
    "#### Ggplot2"
   ]
  },
  {
   "cell_type": "code",
   "execution_count": null,
   "id": "811fc395-a47c-46df-bfc3-d98c632f22eb",
   "metadata": {},
   "outputs": [],
   "source": []
  },
  {
   "cell_type": "code",
   "execution_count": null,
   "id": "6147e36d-c5d6-44dd-9a54-830b62184168",
   "metadata": {},
   "outputs": [],
   "source": []
  },
  {
   "cell_type": "markdown",
   "id": "c60a8e2a-3631-4d37-8098-947e7164af66",
   "metadata": {},
   "source": [
    "| Data Science Tools |\n",
    "|--------------------|\n",
    "| Github |\n",
    "| Spyder |\n",
    "| Zeppelin |\n",
    "| Jupyter Notebook |\n",
    "| RStudio |\n",
    "| Anaconda |\n",
    "| Tableau |\n",
    "| Apache Spark |"
   ]
  },
  {
   "cell_type": "code",
   "execution_count": null,
   "id": "691c364d-1d28-407b-b08a-a107c9499449",
   "metadata": {},
   "outputs": [],
   "source": []
  },
  {
   "cell_type": "code",
   "execution_count": null,
   "id": "457a07a5-8216-4bf1-9c7d-105df46a437e",
   "metadata": {},
   "outputs": [],
   "source": []
  },
  {
   "cell_type": "markdown",
   "id": "25e2b2ae-7b1b-43f7-a7a8-3ce18f91465d",
   "metadata": {},
   "source": [
    "## Arithmetic Expression Examples\n",
    "\n",
    "#### Below are examples of basic arithmetic operations such as multiplication and addition, which are commonly used in data science for calculations and data manipulation."
   ]
  },
  {
   "cell_type": "code",
   "execution_count": null,
   "id": "a2db3647-7825-4de1-b0a0-943fe715d3c9",
   "metadata": {},
   "outputs": [],
   "source": []
  },
  {
   "cell_type": "code",
   "execution_count": null,
   "id": "dc549262-bcc7-43e7-90cb-70311e2dd2cd",
   "metadata": {},
   "outputs": [],
   "source": []
  },
  {
   "cell_type": "code",
   "execution_count": null,
   "id": "1838cdc6-dfe9-4ebc-abc4-d58a957d2185",
   "metadata": {},
   "outputs": [],
   "source": []
  },
  {
   "cell_type": "code",
   "execution_count": 1,
   "id": "5c384b7f-f0a4-41c4-8246-4d026490bb76",
   "metadata": {},
   "outputs": [
    {
     "name": "stdout",
     "output_type": "stream",
     "text": [
      "Result of (3 * 4) + 5 = 17\n"
     ]
    }
   ],
   "source": [
    "# Multiply and add numbers\n",
    "result = (3 * 4) + 5\n",
    "print(\"Result of (3 * 4) + 5 =\", result)"
   ]
  },
  {
   "cell_type": "code",
   "execution_count": null,
   "id": "21100ccd-8c5f-4701-a2e0-ca9a084b2d5f",
   "metadata": {},
   "outputs": [],
   "source": []
  },
  {
   "cell_type": "code",
   "execution_count": null,
   "id": "c42453d6-b6a0-43ec-97cf-c56363674dd9",
   "metadata": {},
   "outputs": [],
   "source": []
  },
  {
   "cell_type": "code",
   "execution_count": 2,
   "id": "8c3ac091-f932-46c1-96cf-544711804e8b",
   "metadata": {},
   "outputs": [
    {
     "name": "stdout",
     "output_type": "stream",
     "text": [
      "200 minutes is equal to 3.33 hours\n"
     ]
    }
   ],
   "source": [
    "# Convert minutes to hours\n",
    "minutes = 200\n",
    "hours = minutes / 60\n",
    "print(f\"{minutes} minutes is equal to {hours:.2f} hours\")"
   ]
  },
  {
   "cell_type": "code",
   "execution_count": null,
   "id": "d504990d-3169-402e-80a1-f9d5fc64ad2d",
   "metadata": {},
   "outputs": [],
   "source": []
  },
  {
   "cell_type": "code",
   "execution_count": null,
   "id": "9c6487d3-1d2c-4a27-a3f9-4cc28727c249",
   "metadata": {},
   "outputs": [],
   "source": []
  },
  {
   "cell_type": "markdown",
   "id": "c8f3d2a7-2cd1-4ae4-8d4e-73dca8439855",
   "metadata": {},
   "source": [
    "## Objectives\n",
    "\n",
    "The objectives of this notebook are:\n",
    "\n",
    "### Demonstrate the use of markdown cells for documentation\n",
    "\n",
    "### List key data science languages and libraries\n",
    "\n",
    "### Showcase a table of data science tools\n",
    "\n",
    "### Perform basic arithmetic operations in Python\n",
    "\n",
    "### Convert time units using Python code\n",
    "\n",
    "### Share the notebook via GitHub"
   ]
  },
  {
   "cell_type": "code",
   "execution_count": null,
   "id": "51e8d369-08e9-4f11-ad65-873f43454d19",
   "metadata": {},
   "outputs": [],
   "source": []
  },
  {
   "cell_type": "code",
   "execution_count": null,
   "id": "76a218ad-9877-4333-a656-2702c6588c06",
   "metadata": {},
   "outputs": [],
   "source": []
  },
  {
   "cell_type": "code",
   "execution_count": null,
   "id": "6eae175c-f8f4-4e1b-b174-c4d5887d5c87",
   "metadata": {},
   "outputs": [],
   "source": []
  },
  {
   "cell_type": "markdown",
   "id": "07c17893-72b7-4e3e-b7ac-f174b5ed6b9e",
   "metadata": {},
   "source": [
    "# Author\n",
    "\n",
    "## This notebook was created by Ashfaq"
   ]
  },
  {
   "cell_type": "code",
   "execution_count": null,
   "id": "1c11deb0-a0c5-42c1-9b71-5fbeeaecd704",
   "metadata": {},
   "outputs": [],
   "source": []
  }
 ],
 "metadata": {
  "kernelspec": {
   "display_name": "Python 3 (ipykernel)",
   "language": "python",
   "name": "python3"
  },
  "language_info": {
   "codemirror_mode": {
    "name": "ipython",
    "version": 3
   },
   "file_extension": ".py",
   "mimetype": "text/x-python",
   "name": "python",
   "nbconvert_exporter": "python",
   "pygments_lexer": "ipython3",
   "version": "3.11.7"
  }
 },
 "nbformat": 4,
 "nbformat_minor": 5
}
